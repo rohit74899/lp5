{
 "cells": [
  {
   "cell_type": "code",
   "execution_count": null,
   "id": "dc6d07f6",
   "metadata": {},
   "outputs": [],
   "source": [
    "import matplotlib.pyplot as plt\n",
    "import pandas as pd\n",
    "import numpy as np"
   ]
  },
  {
   "cell_type": "markdown",
   "id": "6fe2cf9a",
   "metadata": {},
   "source": [
    "# Load Dataset"
   ]
  },
  {
   "cell_type": "code",
   "execution_count": null,
   "id": "2412b2db",
   "metadata": {},
   "outputs": [],
   "source": [
    "train_df = pd.read_csv('C:/Users/ameya/OneDrive/Desktop/LP-5/DL/DL-2(CNN)/fashion-mnist_train.csv')\n",
    "test_df = pd.read_csv('C:/Users/ameya/OneDrive/Desktop/LP-5/DL/DL-2(CNN)/fashion-mnist_train.csv')"
   ]
  },
  {
   "cell_type": "code",
   "execution_count": null,
   "id": "f6c0f52f",
   "metadata": {},
   "outputs": [],
   "source": [
    "train_df.shape"
   ]
  },
  {
   "cell_type": "code",
   "execution_count": null,
   "id": "a913c4c4",
   "metadata": {},
   "outputs": [],
   "source": [
    "test_df.shape"
   ]
  },
  {
   "cell_type": "code",
   "execution_count": null,
   "id": "49388c8d",
   "metadata": {},
   "outputs": [],
   "source": [
    "train_df.head(10)"
   ]
  },
  {
   "cell_type": "code",
   "execution_count": null,
   "id": "05440622",
   "metadata": {},
   "outputs": [],
   "source": [
    "train_df.describe()"
   ]
  },
  {
   "cell_type": "code",
   "execution_count": null,
   "id": "5e72dade",
   "metadata": {},
   "outputs": [],
   "source": [
    "train_df.label.unique()"
   ]
  },
  {
   "cell_type": "markdown",
   "id": "823fb210",
   "metadata": {},
   "source": [
    "# Each row represents an grayscale image containing 784 pixels and each pixel having values in range from 0-255 The column label is a discrete value in the range 0 to 9 each value representing a specific category"
   ]
  },
  {
   "cell_type": "code",
   "execution_count": null,
   "id": "cd45942b",
   "metadata": {},
   "outputs": [],
   "source": [
    "class_names = ['T-shirt/top', 'Trouser', 'Pullover', 'Dress', 'Coat','Sandal', 'Shirt', 'Sneaker', 'Bag', 'Ankle boot']"
   ]
  },
  {
   "cell_type": "markdown",
   "id": "d6644793",
   "metadata": {},
   "source": [
    "# Preprocess Data\n",
    "Convert each image of 784 into (28x28x1)(height x width x color_channels). Divide values by 255 to scale the values."
   ]
  },
  {
   "cell_type": "code",
   "execution_count": null,
   "id": "a50ab935",
   "metadata": {},
   "outputs": [],
   "source": [
    "x_train = train_df.iloc[:,1:].to_numpy()\n",
    "x_train = x_train.reshape([-1,28,28,1])\n",
    "x_train = x_train / 255"
   ]
  },
  {
   "cell_type": "code",
   "execution_count": null,
   "id": "06660af8",
   "metadata": {},
   "outputs": [],
   "source": [
    "y_train = train_df.iloc[:,0].to_numpy()"
   ]
  },
  {
   "cell_type": "code",
   "execution_count": null,
   "id": "4b10654d",
   "metadata": {},
   "outputs": [],
   "source": [
    "x_test = test_df.iloc[:,1:].to_numpy()\n",
    "x_test = x_test.reshape([-1,28,28,1])\n",
    "x_test = x_test / 255"
   ]
  },
  {
   "cell_type": "code",
   "execution_count": null,
   "id": "91e33ab8",
   "metadata": {},
   "outputs": [],
   "source": [
    "y_test = test_df.iloc[:,0].to_numpy()"
   ]
  },
  {
   "cell_type": "markdown",
   "id": "86d65175",
   "metadata": {},
   "source": [
    "# Visualization"
   ]
  },
  {
   "cell_type": "code",
   "execution_count": null,
   "id": "fac6a620",
   "metadata": {},
   "outputs": [],
   "source": [
    "plt.figure(figsize=(10,10))\n",
    "for i in range(25):\n",
    "    plt.subplot(5,5,i+1)\n",
    "    plt.xticks([])\n",
    "    plt.yticks([])\n",
    "    plt.grid(False)\n",
    "    plt.imshow(x_train[i], cmap=plt.cm.binary)\n",
    "    plt.xlabel(class_names[y_train[i]])\n",
    "plt.show()"
   ]
  },
  {
   "cell_type": "markdown",
   "id": "7f753cb9",
   "metadata": {},
   "source": [
    "# Model Building"
   ]
  },
  {
   "cell_type": "code",
   "execution_count": null,
   "id": "f2c35a40",
   "metadata": {},
   "outputs": [],
   "source": [
    "from keras.models import Sequential\n",
    "from keras.layers import Dense,Conv2D,Flatten,MaxPooling2D,Dropout"
   ]
  },
  {
   "cell_type": "code",
   "execution_count": null,
   "id": "3e65b963",
   "metadata": {},
   "outputs": [],
   "source": [
    "model = Sequential()\n",
    "\n",
    "model.add(Conv2D(filters=64,kernel_size=(3,3),input_shape=(28,28,1),activation='relu'))\n",
    "model.add(MaxPooling2D(pool_size = (2,2)))\n",
    "model.add(Dropout(rate=0.3))\n",
    "model.add(Flatten())\n",
    "model.add(Dense(units=32, activation='relu'))\n",
    "model.add(Dense(units=10, activation='sigmoid'))\n",
    "model.compile(loss='sparse_categorical_crossentropy',optimizer='adam',metrics=['accuracy'])\n",
    "model.summary()"
   ]
  },
  {
   "cell_type": "code",
   "execution_count": null,
   "id": "643ac44f",
   "metadata": {},
   "outputs": [],
   "source": [
    "model.fit(x_train,y_train,epochs=10,batch_size=1200,validation_split=0.05)"
   ]
  },
  {
   "cell_type": "markdown",
   "id": "d638df1c",
   "metadata": {},
   "source": [
    "# Evaluation"
   ]
  },
  {
   "cell_type": "code",
   "execution_count": null,
   "id": "58702e9a",
   "metadata": {},
   "outputs": [],
   "source": [
    "evaluation = model.evaluate(x_test,y_test)"
   ]
  },
  {
   "cell_type": "code",
   "execution_count": null,
   "id": "a51c55a1",
   "metadata": {},
   "outputs": [],
   "source": [
    "print(f\"Accuracy: {evaluation[1]}\")"
   ]
  },
  {
   "cell_type": "code",
   "execution_count": null,
   "id": "551bb52e",
   "metadata": {},
   "outputs": [],
   "source": [
    "y_probas = model.predict(x_test)\n",
    "plt.scatter(y_test, y_probas)"
   ]
  },
  {
   "cell_type": "code",
   "execution_count": null,
   "id": "09221f4c",
   "metadata": {},
   "outputs": [],
   "source": [
    "y_pred = y_probas.argmax(axis=-1)"
   ]
  },
  {
   "cell_type": "code",
   "execution_count": null,
   "id": "65079b9e",
   "metadata": {},
   "outputs": [],
   "source": [
    "y_pred"
   ]
  },
  {
   "cell_type": "code",
   "execution_count": null,
   "id": "9795f2f3",
   "metadata": {},
   "outputs": [],
   "source": [
    "plt.figure(figsize=(10,10),)\n",
    "for i in range(25):\n",
    "    plt.subplot(5,5,i+1)\n",
    "    plt.xticks([])\n",
    "    plt.yticks([])\n",
    "    plt.grid(False)\n",
    "    plt.imshow(x_test[i], cmap=plt.cm.binary)\n",
    "#     plt.xlabel(f\"True Class:{y_test[i]}\")\n",
    "    plt.title(f\"Pred:{class_names[y_pred[i]]}\")\n",
    "plt.show()"
   ]
  },
  {
   "cell_type": "code",
   "execution_count": null,
   "id": "09d6791b",
   "metadata": {},
   "outputs": [],
   "source": [
    "from sklearn.metrics import classification_report"
   ]
  },
  {
   "cell_type": "code",
   "execution_count": null,
   "id": "03986b7a",
   "metadata": {},
   "outputs": [],
   "source": [
    "num_classes = 10\n",
    "class_names = [\"class {}\".format(i) for i in range(num_classes)]\n",
    "cr = classification_report(y_test, y_pred, target_names=class_names)\n",
    "print(cr)"
   ]
  },
  {
   "cell_type": "code",
   "execution_count": null,
   "id": "fa55e562",
   "metadata": {},
   "outputs": [],
   "source": []
  }
 ],
 "metadata": {
  "kernelspec": {
   "display_name": "Python 3 (ipykernel)",
   "language": "python",
   "name": "python3"
  },
  "language_info": {
   "codemirror_mode": {
    "name": "ipython",
    "version": 3
   },
   "file_extension": ".py",
   "mimetype": "text/x-python",
   "name": "python",
   "nbconvert_exporter": "python",
   "pygments_lexer": "ipython3",
   "version": "3.9.13"
  }
 },
 "nbformat": 4,
 "nbformat_minor": 5
}
