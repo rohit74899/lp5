{
  "cells": [
    {
      "cell_type": "code",
      "execution_count": null,
      "metadata": {
        "id": "iRZFje8csGmY"
      },
      "outputs": [],
      "source": [
        "import tensorflow as tf\n",
        "from tensorflow.keras.layers.experimental import preprocessing\n",
        "from sklearn.model_selection import train_test_split\n",
        "from mlxtend.plotting import plot_confusion_matrix\n",
        "from sklearn import metrics\n",
        "import pandas as pd\n",
        "import numpy as np\n",
        "import matplotlib.pyplot as plt\n",
        "import seaborn as sns\n",
        "%matplotlib inline\n",
        "from tqdm.notebook import tqdm\n",
        "import random\n",
        "import warnings\n",
        "warnings.filterwarnings(\"ignore\")"
      ]
    },
    {
      "cell_type": "code",
      "execution_count": null,
      "metadata": {
        "id": "e4LA7IOXxbws"
      },
      "outputs": [],
      "source": [
        "(trainX, trainY), (testX, testY) = tf.keras.datasets.fashion_mnist.load_data()\n",
        "\n",
        "trainX = trainX.reshape((trainX.shape[0], 28, 28, 1))\n",
        "testX = testX.reshape((testX.shape[0], 28, 28, 1))\n",
        "\n",
        "trainY_cat = tf.keras.utils.to_categorical(trainY)\n",
        "testY_cat = tf.keras.utils.to_categorical(testY)"
      ]
    },
    {
      "cell_type": "code",
      "execution_count": null,
      "metadata": {
        "id": "c_slKHYtxn90"
      },
      "outputs": [],
      "source": [
        "train_norm = trainX.astype('float32')\n",
        "test_norm = testX.astype('float32')\n",
        "\n",
        "train_norm = train_norm / 255.0\n",
        "test_norm = test_norm / 255.0"
      ]
    },
    {
      "cell_type": "code",
      "execution_count": null,
      "metadata": {
        "id": "Tgq1LQ7vx_zD"
      },
      "outputs": [],
      "source": [
        "class_names = ['T-shirt/top', 'Trouser', 'Pullover', 'Dress', 'Coat',\n",
        "               'Sandal', 'Shirt', 'Sneaker', 'Bag', 'Ankle boot']"
      ]
    },
    {
      "cell_type": "code",
      "execution_count": null,
      "metadata": {
        "colab": {
          "base_uri": "https://localhost:8080/",
          "height": 826
        },
        "id": "x_rj-bgRx-Dp",
        "outputId": "7553c866-fad8-4ef7-85b2-76beda047d3c"
      },
      "outputs": [],
      "source": [
        "plt.figure(figsize=(10,10))\n",
        "for i in range(25):\n",
        "    plt.subplot(5,5,i+1)\n",
        "    plt.xticks([])\n",
        "    plt.yticks([])\n",
        "    plt.grid(False)\n",
        "    plt.imshow(trainX[i], cmap=plt.cm.binary)\n",
        "    plt.xlabel(class_names[trainY[i]])\n",
        "plt.show()"
      ]
    },
    {
      "cell_type": "code",
      "execution_count": null,
      "metadata": {
        "id": "QAAmp2qEyMIX"
      },
      "outputs": [],
      "source": [
        "model = tf.keras.models.Sequential([\n",
        "    tf.keras.layers.Conv2D(64, kernel_size=(3, 3), input_shape=(28, 28, 1), activation='relu', padding='same', name='conv-layer-1'),\n",
        "    tf.keras.layers.AvgPool2D(pool_size=(2, 2), name='pooling-layer-1'),\n",
        "    tf.keras.layers.Conv2D(32, kernel_size=(3, 3), activation='relu', padding='same', name='conv-layer-2'),\n",
        "    tf.keras.layers.AvgPool2D(pool_size=(2, 2), name='pooling-layer-2'),\n",
        "    tf.keras.layers.GlobalAveragePooling2D(name='pooling-layer-3'),\n",
        "    tf.keras.layers.Dense(len(class_names), activation=\"softmax\", name=\"output-layer\")\n",
        "])"
      ]
    },
    {
      "cell_type": "code",
      "execution_count": null,
      "metadata": {
        "id": "GfeldW1ByaZp"
      },
      "outputs": [],
      "source": [
        "model.compile(loss=\"categorical_crossentropy\",\n",
        "             optimizer=\"adam\",\n",
        "             metrics=[\"accuracy\"])"
      ]
    },
    {
      "cell_type": "code",
      "execution_count": null,
      "metadata": {
        "colab": {
          "base_uri": "https://localhost:8080/"
        },
        "id": "XZKabBCjyk2g",
        "outputId": "f6867867-df29-4e40-d3b8-ecd9278eae75"
      },
      "outputs": [],
      "source": [
        "history = model.fit(trainX, trainY_cat, epochs=10, validation_data=(testX, testY_cat))"
      ]
    },
    {
      "cell_type": "code",
      "execution_count": null,
      "metadata": {
        "colab": {
          "base_uri": "https://localhost:8080/",
          "height": 754
        },
        "id": "FgwHHAv5yoO0",
        "outputId": "8d5a1be5-abe2-4e98-a267-77cbedf25920"
      },
      "outputs": [],
      "source": [
        "tf.keras.utils.plot_model(model, show_shapes=True)"
      ]
    },
    {
      "cell_type": "code",
      "execution_count": null,
      "metadata": {
        "colab": {
          "base_uri": "https://localhost:8080/"
        },
        "id": "MV4QzkYZ1KRt",
        "outputId": "78faf967-9bb1-494a-9ee5-7eaa77eaaffc"
      },
      "outputs": [],
      "source": [
        "model.summary()"
      ]
    },
    {
      "cell_type": "code",
      "execution_count": null,
      "metadata": {
        "colab": {
          "base_uri": "https://localhost:8080/",
          "height": 622
        },
        "id": "QaSwzyEu1Nfu",
        "outputId": "6669867a-3cc5-4102-c5af-84ba70b262f0"
      },
      "outputs": [],
      "source": [
        "pd.DataFrame(history.history).plot(figsize=(10,7))\n",
        "plt.title(\"Metrics Graph\")\n",
        "plt.show()"
      ]
    },
    {
      "cell_type": "code",
      "execution_count": null,
      "metadata": {
        "colab": {
          "base_uri": "https://localhost:8080/"
        },
        "id": "7tYL5H7E1QN_",
        "outputId": "7ce2a6d4-a4e5-4c36-9d2a-9976bb5c2945"
      },
      "outputs": [],
      "source": [
        "model.evaluate(testX, testY_cat)"
      ]
    },
    {
      "cell_type": "code",
      "execution_count": null,
      "metadata": {
        "colab": {
          "base_uri": "https://localhost:8080/"
        },
        "id": "C2b04tU21VAA",
        "outputId": "82be390d-9d25-4208-cd93-f7d368f8feda"
      },
      "outputs": [],
      "source": [
        "predictions = model.predict(testX)"
      ]
    },
    {
      "cell_type": "code",
      "execution_count": null,
      "metadata": {
        "id": "SVOixE6v1XzO"
      },
      "outputs": [],
      "source": [
        "predictions = tf.argmax(predictions, axis=1)"
      ]
    },
    {
      "cell_type": "code",
      "execution_count": null,
      "metadata": {
        "id": "KErZ72Ia1cLj"
      },
      "outputs": [],
      "source": [
        "y_test = tf.argmax(testY_cat, axis=1)"
      ]
    },
    {
      "cell_type": "code",
      "execution_count": null,
      "metadata": {
        "id": "fVof6NoD1q1Z"
      },
      "outputs": [],
      "source": [
        "y_test = tf.Variable(y_test)"
      ]
    },
    {
      "cell_type": "code",
      "execution_count": null,
      "metadata": {
        "colab": {
          "base_uri": "https://localhost:8080/"
        },
        "id": "ZNDOG0IV1xGs",
        "outputId": "bc97ba3f-48a4-46d8-cac5-0e620905481f"
      },
      "outputs": [],
      "source": [
        "print(metrics.accuracy_score(y_test, predictions))"
      ]
    },
    {
      "cell_type": "code",
      "execution_count": null,
      "metadata": {
        "colab": {
          "base_uri": "https://localhost:8080/"
        },
        "id": "1zCYiAyH1y-0",
        "outputId": "8286ee08-7e79-40da-e6d4-0a17198baac3"
      },
      "outputs": [],
      "source": [
        "print(metrics.classification_report(y_test, predictions))"
      ]
    },
    {
      "cell_type": "code",
      "execution_count": null,
      "metadata": {
        "colab": {
          "base_uri": "https://localhost:8080/",
          "height": 690
        },
        "id": "1I4qi1Ra12vm",
        "outputId": "98949c19-7ae8-44f9-a711-663189962cc7"
      },
      "outputs": [],
      "source": [
        "cm = metrics.confusion_matrix(y_test, predictions)\n",
        "plot_confusion_matrix(cm, figsize=(10,7), class_names=class_names)\n",
        "plt.title(\"Confusion Matrix\")\n",
        "plt.show()"
      ]
    },
    {
      "cell_type": "code",
      "execution_count": null,
      "metadata": {
        "colab": {
          "base_uri": "https://localhost:8080/",
          "height": 754
        },
        "id": "9EPQQ1XT18zB",
        "outputId": "b832a4c5-1006-481a-a438-f61cc77c8d59"
      },
      "outputs": [],
      "source": [
        "images = []\n",
        "labels = []\n",
        "random_indices = random.sample(range(len(testX)), 10)\n",
        "for idx in random_indices:\n",
        "    images.append(testX[idx])\n",
        "    labels.append(testY_cat[idx])\n",
        "images = np.array(images)\n",
        "labels = np.array(labels)\n",
        "\n",
        "fig = plt.figure(figsize=(20, 8))\n",
        "rows = 2\n",
        "cols = 5\n",
        "x = 1\n",
        "for image, label in zip(images, labels):\n",
        "    fig.add_subplot(rows, cols, x)\n",
        "    prediction = model.predict(tf.expand_dims(image, axis=0))\n",
        "    prediction = class_names[tf.argmax(prediction.flatten())]\n",
        "    label = class_names[tf.argmax(label)]\n",
        "    plt.title(f\"Label: {label}, Prediction: {prediction}\")\n",
        "    plt.imshow(image/255.)\n",
        "    plt.axis(\"off\")\n",
        "    x += 1"
      ]
    }
  ],
  "metadata": {
    "accelerator": "GPU",
    "colab": {
      "gpuType": "T4",
      "provenance": []
    },
    "kernelspec": {
      "display_name": "Python 3",
      "name": "python3"
    },
    "language_info": {
      "name": "python"
    }
  },
  "nbformat": 4,
  "nbformat_minor": 0
}
