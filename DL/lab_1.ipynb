{
  "cells": [
    {
      "cell_type": "code",
      "execution_count": null,
      "metadata": {
        "id": "DRAzVyJS1ybT"
      },
      "outputs": [],
      "source": [
        "import tensorflow as tf\n",
        "from sklearn.model_selection import train_test_split\n",
        "from sklearn.preprocessing import StandardScaler\n",
        "from sklearn import metrics\n",
        "import pandas as pd\n",
        "import numpy as np\n",
        "import matplotlib.pyplot as plt\n",
        "import seaborn as sns\n",
        "%matplotlib inline\n",
        "from tqdm.notebook import tqdm\n",
        "import warnings\n",
        "warnings.filterwarnings(\"ignore\")"
      ]
    },
    {
      "cell_type": "code",
      "execution_count": null,
      "metadata": {
        "id": "pbo-IDmd2TUp"
      },
      "outputs": [],
      "source": [
        "boston = tf.keras.datasets.boston_housing"
      ]
    },
    {
      "cell_type": "code",
      "execution_count": null,
      "metadata": {
        "id": "Z-jRjH-F2rnQ"
      },
      "outputs": [],
      "source": [
        "boston_data = boston.load_data()\n"
      ]
    },
    {
      "cell_type": "code",
      "execution_count": null,
      "metadata": {
        "colab": {
          "base_uri": "https://localhost:8080/",
          "height": 206
        },
        "id": "j-v0laFO20ej",
        "outputId": "87d53868-9c16-42bb-bf34-41298705fd13"
      },
      "outputs": [],
      "source": [
        "(x_train, y_train), (x_test, y_test) = tf.keras.datasets.boston_housing.load_data(path='boston_housing.npz', test_split=0.2, seed=42)\n",
        "column_names = ['CRIM', 'ZN', 'INDUS', 'CHAS', 'NOX', 'RM', 'AGE', 'DIS', 'RAD', 'TAX', 'PTRATIO', 'B', 'LSTAT']\n",
        "df = pd.DataFrame(x_train, columns=column_names)\n",
        "\n",
        "# Add the target column to the DataFrame\n",
        "df['MEDV'] = y_train\n",
        "\n",
        "df.head()\n",
        "# df.describe()\n",
        "# df = df.fillna(df.mean())\n",
        "# df.isna().sum()\n",
        "# df.head()\n",
        "# sns.pairplot(df)\n",
        "# sns.heatmap(df.corr(),annot=True)"
      ]
    },
    {
      "cell_type": "code",
      "execution_count": null,
      "metadata": {
        "colab": {
          "base_uri": "https://localhost:8080/"
        },
        "id": "53TPNGwp21D-",
        "outputId": "4ddc4a60-cd26-4687-d4a6-178bd0b11ece"
      },
      "outputs": [],
      "source": [
        "x_train.shape, y_train.shape, x_test.shape, y_test.shape"
      ]
    },
    {
      "cell_type": "code",
      "execution_count": null,
      "metadata": {
        "id": "FuWy6JmK3KKF"
      },
      "outputs": [],
      "source": [
        "scaler = StandardScaler()"
      ]
    },
    {
      "cell_type": "code",
      "execution_count": null,
      "metadata": {
        "id": "TcjBpzvG3YaD"
      },
      "outputs": [],
      "source": [
        "x_train_scaled = scaler.fit_transform(x_train)\n",
        "x_test_scaled = scaler.transform(x_test)\n",
        "\n",
        "y_train_scaled = scaler.fit_transform(y_train.reshape(-1, 1))\n",
        "y_test_scaled = scaler.transform(y_test.reshape(-1, 1))"
      ]
    },
    {
      "cell_type": "code",
      "execution_count": null,
      "metadata": {
        "id": "xKX6hgUW33J3"
      },
      "outputs": [],
      "source": [
        "model = tf.keras.models.Sequential([\n",
        "    tf.keras.layers.Input(shape=(13), name='input-layer'),\n",
        "    tf.keras.layers.Dense(100, name='hidden-layer-2'),\n",
        "    tf.keras.layers.BatchNormalization(name='hidden-layer-3'),\n",
        "    tf.keras.layers.Dense(50, name='hidden-layer-4'),\n",
        "    tf.keras.layers.Dense(1, name='output-layer')\n",
        "])"
      ]
    },
    {
      "cell_type": "code",
      "execution_count": null,
      "metadata": {
        "colab": {
          "base_uri": "https://localhost:8080/",
          "height": 533
        },
        "id": "R9bIe6WO4nNj",
        "outputId": "740298be-8f19-4e88-ab8a-8cba39b22b59"
      },
      "outputs": [],
      "source": [
        "tf.keras.utils.plot_model(model, show_shapes=True)"
      ]
    },
    {
      "cell_type": "code",
      "execution_count": null,
      "metadata": {
        "colab": {
          "base_uri": "https://localhost:8080/"
        },
        "id": "2r-1Vu-Q4qIu",
        "outputId": "57eb5624-7ab2-45bf-cb1c-d304163b0b4d"
      },
      "outputs": [],
      "source": [
        "model.summary()"
      ]
    },
    {
      "cell_type": "code",
      "execution_count": null,
      "metadata": {
        "id": "TTvTZfVR4xps"
      },
      "outputs": [],
      "source": [
        "model.compile(\n",
        "    optimizer='adam',\n",
        "    loss='mse',\n",
        "    metrics=['mae']\n",
        ")"
      ]
    },
    {
      "cell_type": "code",
      "execution_count": null,
      "metadata": {
        "colab": {
          "base_uri": "https://localhost:8080/"
        },
        "id": "RNY41f555BC4",
        "outputId": "0beebb87-7b00-4193-f0e9-5a1d4e594350"
      },
      "outputs": [],
      "source": [
        "history = model.fit(x_train, y_train, batch_size=32, epochs=20, validation_data=(x_test, y_test))"
      ]
    },
    {
      "cell_type": "code",
      "execution_count": null,
      "metadata": {
        "colab": {
          "base_uri": "https://localhost:8080/",
          "height": 622
        },
        "id": "bu6sAkZS5yPQ",
        "outputId": "2507f4ee-887d-47b9-a63c-830af0ed7c41"
      },
      "outputs": [],
      "source": [
        "pd.DataFrame(history.history).plot(figsize=(10,7))\n",
        "plt.title(\"Metrics graph\")\n",
        "plt.show()"
      ]
    },
    {
      "cell_type": "code",
      "execution_count": null,
      "metadata": {
        "colab": {
          "base_uri": "https://localhost:8080/"
        },
        "id": "83ADV6qo6Udr",
        "outputId": "f6d74c95-e298-4aec-8a46-fc85bf90a0a8"
      },
      "outputs": [],
      "source": [
        "y_pred = model.predict(x_test)"
      ]
    },
    {
      "cell_type": "code",
      "execution_count": null,
      "metadata": {
        "colab": {
          "base_uri": "https://localhost:8080/",
          "height": 452
        },
        "id": "Y_qs1HWM8A2O",
        "outputId": "95370362-1d6c-4aa7-f6b9-1f83ecda905b"
      },
      "outputs": [],
      "source": [
        "sns.regplot(x=y_test, y=y_pred)\n",
        "plt.title(\"Regression Line for Predicted values\")\n",
        "plt.show()"
      ]
    },
    {
      "cell_type": "code",
      "execution_count": null,
      "metadata": {
        "id": "obmd48cr7hkK"
      },
      "outputs": [],
      "source": [
        "def regression_metrics_display(y_test, y_pred):\n",
        "  print(f\"MAE is {metrics.mean_absolute_error(y_test, y_pred)}\")\n",
        "  print(f\"MSE is {metrics.mean_squared_error(y_test,y_pred)}\")\n",
        "  print(f\"R2 score is {metrics.r2_score(y_test, y_pred)}\")"
      ]
    },
    {
      "cell_type": "code",
      "execution_count": null,
      "metadata": {
        "colab": {
          "base_uri": "https://localhost:8080/"
        },
        "id": "XUZKgqeC7i0I",
        "outputId": "b38de5d1-4e0b-48ea-8bd4-26444b628a92"
      },
      "outputs": [],
      "source": [
        "regression_metrics_display(y_test, y_pred)"
      ]
    },
    {
      "cell_type": "code",
      "execution_count": null,
      "metadata": {
        "id": "rUq4TUiUzSbx"
      },
      "outputs": [],
      "source": []
    }
  ],
  "metadata": {
    "accelerator": "GPU",
    "colab": {
      "gpuType": "T4",
      "provenance": []
    },
    "kernelspec": {
      "display_name": "Python 3",
      "name": "python3"
    },
    "language_info": {
      "name": "python"
    }
  },
  "nbformat": 4,
  "nbformat_minor": 0
}
